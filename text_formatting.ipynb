{
 "cells": [
  {
   "cell_type": "markdown",
   "metadata": {},
   "source": [
    "<H3>Text Formatting Function</H3>"
   ]
  },
  {
   "cell_type": "code",
   "execution_count": null,
   "metadata": {},
   "outputs": [],
   "source": [
    "# Function text_formatting - Receive a string and remove the unwanted characters, punctuation, and stop words.\n",
    "# This function also updates the dictionary, appending each stemmed word. \n",
    "\n",
    "def text_formatting(text_line):\n",
    "\n",
    "    # Remove newlines and convert backslashes into single space.\n",
    "    text_line = text_line.replace(\"\\\\n\", \" \").replace(\"/\", \" \").replace(\"-\", \" \")\n",
    "\n",
    "    # Define punctuation.\n",
    "    # We want to keep the \"$\" symbol, so we remove it from the default list of unwanted symbols.\n",
    "    custom_punctuation = string.punctuation.replace(\"$\", \"\")\n",
    "    custom_punctuation = custom_punctuation + '“' + '–'\n",
    "\n",
    "    # Remove punctuation from the given string.\n",
    "    for char in custom_punctuation:\n",
    "        text_line = text_line.replace(char, '')\n",
    "\n",
    "    # Split into list.\n",
    "    text_line = text_line.split(\" \")\n",
    "\n",
    "    # Remove stop words.\n",
    "    text_line = [word for word in text_line if not word in set(stopwords.words('english'))]\n",
    "\n",
    "    # Perform the stemming process.\n",
    "    text_line = [ps.stem(word) for word in text_line]\n",
    "    \n",
    "    # Update the vocabulary.\n",
    "    for word in set(text_line):\n",
    "        vocabulary.append(word)\n",
    "\n",
    "    # Rejoin line text  \n",
    "    text_line = \" \".join(text_line)\n",
    "    \n",
    "    return text_line"
   ]
  }
 ],
 "metadata": {
  "kernelspec": {
   "display_name": "Python 3",
   "language": "python",
   "name": "python3"
  },
  "language_info": {
   "codemirror_mode": {
    "name": "ipython",
    "version": 3
   },
   "file_extension": ".py",
   "mimetype": "text/x-python",
   "name": "python",
   "nbconvert_exporter": "python",
   "pygments_lexer": "ipython3",
   "version": "3.6.7"
  }
 },
 "nbformat": 4,
 "nbformat_minor": 2
}
