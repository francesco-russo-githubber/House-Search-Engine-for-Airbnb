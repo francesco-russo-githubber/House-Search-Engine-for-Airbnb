{
 "cells": [
  {
   "cell_type": "markdown",
   "metadata": {},
   "source": [
    "<H1>Homework 3, Group 23</H1>"
   ]
  },
  {
   "cell_type": "markdown",
   "metadata": {},
   "source": [
    "<H3> Importing libraries </H3>"
   ]
  },
  {
   "cell_type": "code",
   "execution_count": 65,
   "metadata": {},
   "outputs": [
    {
     "name": "stdout",
     "output_type": "stream",
     "text": [
      "[nltk_data] Downloading package stopwords to\n",
      "[nltk_data]     C:\\Users\\Massimiliano\\AppData\\Roaming\\nltk_data...\n",
      "[nltk_data]   Package stopwords is already up-to-date!\n"
     ]
    },
    {
     "data": {
      "text/plain": [
       "True"
      ]
     },
     "execution_count": 65,
     "metadata": {},
     "output_type": "execute_result"
    }
   ],
   "source": [
    "nltk.download('stopwords')"
   ]
  },
  {
   "cell_type": "code",
   "execution_count": 66,
   "metadata": {},
   "outputs": [],
   "source": [
    "###########################################################################\n",
    "##\n",
    "##      ITEMS TO BE REMOVED BEFORE SUBMIT the HW - MARKET WITH ##\n",
    "##\n",
    "###########################################################################"
   ]
  },
  {
   "cell_type": "code",
   "execution_count": 136,
   "metadata": {},
   "outputs": [],
   "source": [
    "#file_path = \"/home/jagg/Data/airbnb_data\"\n",
    "file_path = \"airbnb_data\"\n",
    "rows = 5\n",
    "query = \"room bathroom\""
   ]
  },
  {
   "cell_type": "code",
   "execution_count": 137,
   "metadata": {},
   "outputs": [],
   "source": [
    "import pandas as pd\n",
    "import nltk\n",
    "import string"
   ]
  },
  {
   "cell_type": "code",
   "execution_count": 138,
   "metadata": {},
   "outputs": [],
   "source": [
    "from nltk.corpus import stopwords\n",
    "from nltk.stem import PorterStemmer"
   ]
  },
  {
   "cell_type": "markdown",
   "metadata": {},
   "source": [
    "<H3> Initialization </H3>"
   ]
  },
  {
   "cell_type": "code",
   "execution_count": 139,
   "metadata": {},
   "outputs": [],
   "source": [
    "# Create porter stemmer object.\n",
    "ps = PorterStemmer()\n",
    "\n",
    "# Create a dictionary that stores every word found in documents.\n",
    "dictionary = dict()\n",
    "\n",
    "# Create a vocabulary list that stores every word found in documents with index.\n",
    "vocabulary = list()"
   ]
  },
  {
   "cell_type": "markdown",
   "metadata": {},
   "source": [
    "<H3> Creating Funtions </H3>"
   ]
  },
  {
   "cell_type": "code",
   "execution_count": 140,
   "metadata": {},
   "outputs": [],
   "source": [
    "# Function text_formatting - Receive a string and remove the unwanted characters, punctuation, and stop words.\n",
    "# This function also updates the dictionary, appending each stemmed word. \n",
    "\n",
    "def text_formatting(text_line):\n",
    "\n",
    "    # Remove newlines and convert backslashes into single space.\n",
    "    text_line = text_line.replace(\"\\\\n\", \" \").replace(\"/\", \" \").replace(\"-\", \" \")\n",
    "\n",
    "    # Define punctuation.\n",
    "    # We want to keep the \"$\" symbol, so we remove it from the default list of unwanted symbols.\n",
    "    custom_punctuation = string.punctuation.replace(\"$\", \"\")\n",
    "    custom_punctuation = custom_punctuation + '“' + '–'\n",
    "\n",
    "    # Remove punctuation from the given string.\n",
    "    for char in custom_punctuation:\n",
    "        text_line = text_line.replace(char, '')\n",
    "\n",
    "    # Split into list.\n",
    "    text_line = text_line.split(\" \")\n",
    "\n",
    "    # Remove stop words.\n",
    "    text_line = [word for word in text_line if not word in set(stopwords.words('english'))]\n",
    "\n",
    "    # Perform the stemming process.\n",
    "    text_line = [ps.stem(word) for word in text_line]\n",
    "    \n",
    "    # Update the vocabulary.\n",
    "    for word in set(text_line):\n",
    "        vocabulary.append(word)\n",
    "\n",
    "    # Rejoin line text  \n",
    "    text_line = \" \".join(text_line)\n",
    "    \n",
    "    return text_line"
   ]
  },
  {
   "cell_type": "markdown",
   "metadata": {},
   "source": [
    "<H3> Read .csv file </H3>\n",
    "\n",
    "<p> Using pandas to read the .csv file and visualizing it on the Data Frame </p>"
   ]
  },
  {
   "cell_type": "code",
   "execution_count": 141,
   "metadata": {},
   "outputs": [
    {
     "data": {
      "text/html": [
       "<div>\n",
       "<style scoped>\n",
       "    .dataframe tbody tr th:only-of-type {\n",
       "        vertical-align: middle;\n",
       "    }\n",
       "\n",
       "    .dataframe tbody tr th {\n",
       "        vertical-align: top;\n",
       "    }\n",
       "\n",
       "    .dataframe thead th {\n",
       "        text-align: right;\n",
       "    }\n",
       "</style>\n",
       "<table border=\"1\" class=\"dataframe\">\n",
       "  <thead>\n",
       "    <tr style=\"text-align: right;\">\n",
       "      <th></th>\n",
       "      <th>Unnamed: 0</th>\n",
       "      <th>average_rate_per_night</th>\n",
       "      <th>bedrooms_count</th>\n",
       "      <th>city</th>\n",
       "      <th>date_of_listing</th>\n",
       "      <th>description</th>\n",
       "      <th>latitude</th>\n",
       "      <th>longitude</th>\n",
       "      <th>title</th>\n",
       "      <th>url</th>\n",
       "    </tr>\n",
       "  </thead>\n",
       "  <tbody>\n",
       "    <tr>\n",
       "      <th>0</th>\n",
       "      <td>1</td>\n",
       "      <td>$27</td>\n",
       "      <td>2</td>\n",
       "      <td>Humble</td>\n",
       "      <td>May 2016</td>\n",
       "      <td>Welcome to stay in private room with queen bed...</td>\n",
       "      <td>30.020138</td>\n",
       "      <td>-95.293996</td>\n",
       "      <td>2 Private rooms/bathroom 10min from IAH airport</td>\n",
       "      <td>https://www.airbnb.com/rooms/18520444?location...</td>\n",
       "    </tr>\n",
       "    <tr>\n",
       "      <th>1</th>\n",
       "      <td>2</td>\n",
       "      <td>$149</td>\n",
       "      <td>4</td>\n",
       "      <td>San Antonio</td>\n",
       "      <td>November 2010</td>\n",
       "      <td>Stylish, fully remodeled home in upscale NW – ...</td>\n",
       "      <td>29.503068</td>\n",
       "      <td>-98.447688</td>\n",
       "      <td>Unique Location! Alamo Heights - Designer Insp...</td>\n",
       "      <td>https://www.airbnb.com/rooms/17481455?location...</td>\n",
       "    </tr>\n",
       "    <tr>\n",
       "      <th>2</th>\n",
       "      <td>3</td>\n",
       "      <td>$59</td>\n",
       "      <td>1</td>\n",
       "      <td>Houston</td>\n",
       "      <td>January 2017</td>\n",
       "      <td>'River house on island close to the city' \\nA ...</td>\n",
       "      <td>29.829352</td>\n",
       "      <td>-95.081549</td>\n",
       "      <td>River house near the city</td>\n",
       "      <td>https://www.airbnb.com/rooms/16926307?location...</td>\n",
       "    </tr>\n",
       "    <tr>\n",
       "      <th>3</th>\n",
       "      <td>4</td>\n",
       "      <td>$60</td>\n",
       "      <td>1</td>\n",
       "      <td>Bryan</td>\n",
       "      <td>February 2016</td>\n",
       "      <td>Private bedroom in a cute little home situated...</td>\n",
       "      <td>30.637304</td>\n",
       "      <td>-96.337846</td>\n",
       "      <td>Private Room Close to Campus</td>\n",
       "      <td>https://www.airbnb.com/rooms/11839729?location...</td>\n",
       "    </tr>\n",
       "    <tr>\n",
       "      <th>4</th>\n",
       "      <td>5</td>\n",
       "      <td>$75</td>\n",
       "      <td>2</td>\n",
       "      <td>Fort Worth</td>\n",
       "      <td>February 2017</td>\n",
       "      <td>Welcome to our original 1920's home. We recent...</td>\n",
       "      <td>32.747097</td>\n",
       "      <td>-97.286434</td>\n",
       "      <td>The Porch</td>\n",
       "      <td>https://www.airbnb.com/rooms/17325114?location...</td>\n",
       "    </tr>\n",
       "  </tbody>\n",
       "</table>\n",
       "</div>"
      ],
      "text/plain": [
       "   Unnamed: 0 average_rate_per_night  bedrooms_count         city  \\\n",
       "0           1                    $27               2       Humble   \n",
       "1           2                   $149               4  San Antonio   \n",
       "2           3                    $59               1      Houston   \n",
       "3           4                    $60               1        Bryan   \n",
       "4           5                    $75               2   Fort Worth   \n",
       "\n",
       "  date_of_listing                                        description  \\\n",
       "0        May 2016  Welcome to stay in private room with queen bed...   \n",
       "1   November 2010  Stylish, fully remodeled home in upscale NW – ...   \n",
       "2    January 2017  'River house on island close to the city' \\nA ...   \n",
       "3   February 2016  Private bedroom in a cute little home situated...   \n",
       "4   February 2017  Welcome to our original 1920's home. We recent...   \n",
       "\n",
       "    latitude  longitude                                              title  \\\n",
       "0  30.020138 -95.293996    2 Private rooms/bathroom 10min from IAH airport   \n",
       "1  29.503068 -98.447688  Unique Location! Alamo Heights - Designer Insp...   \n",
       "2  29.829352 -95.081549                          River house near the city   \n",
       "3  30.637304 -96.337846                       Private Room Close to Campus   \n",
       "4  32.747097 -97.286434                                          The Porch   \n",
       "\n",
       "                                                 url  \n",
       "0  https://www.airbnb.com/rooms/18520444?location...  \n",
       "1  https://www.airbnb.com/rooms/17481455?location...  \n",
       "2  https://www.airbnb.com/rooms/16926307?location...  \n",
       "3  https://www.airbnb.com/rooms/11839729?location...  \n",
       "4  https://www.airbnb.com/rooms/17325114?location...  "
      ]
     },
     "execution_count": 141,
     "metadata": {},
     "output_type": "execute_result"
    }
   ],
   "source": [
    "# Read the source .csv file and visualize its contents\n",
    "df = pd.read_csv(\"Airbnb_Texas_Rentals.csv\", nrows = rows)\n",
    "df"
   ]
  },
  {
   "cell_type": "code",
   "execution_count": 142,
   "metadata": {},
   "outputs": [
    {
     "name": "stdout",
     "output_type": "stream",
     "text": [
      "<class 'pandas.core.frame.DataFrame'>\n",
      "RangeIndex: 5 entries, 0 to 4\n",
      "Data columns (total 10 columns):\n",
      "Unnamed: 0                5 non-null int64\n",
      "average_rate_per_night    5 non-null object\n",
      "bedrooms_count            5 non-null int64\n",
      "city                      5 non-null object\n",
      "date_of_listing           5 non-null object\n",
      "description               5 non-null object\n",
      "latitude                  5 non-null float64\n",
      "longitude                 5 non-null float64\n",
      "title                     5 non-null object\n",
      "url                       5 non-null object\n",
      "dtypes: float64(2), int64(2), object(6)\n",
      "memory usage: 480.0+ bytes\n"
     ]
    }
   ],
   "source": [
    "## ITEMS TO BE REMOVED BEFORE SUBMIT the HW\n",
    "df.info()"
   ]
  },
  {
   "cell_type": "markdown",
   "metadata": {},
   "source": [
    "<H3> Create .tsv files </H3>"
   ]
  },
  {
   "cell_type": "markdown",
   "metadata": {},
   "source": [
    "<p>\n",
    "To create each .tsv file, we iterate the .csv source file, line by line, storing each line of the information in variables, one  for each field. Once the end of the row is reached, we join the information into a new file where the data will be separated by tabulations.  The process will be repeated until we reach the last row of the source document.\n",
    "</p>"
   ]
  },
  {
   "cell_type": "code",
   "execution_count": 143,
   "metadata": {},
   "outputs": [],
   "source": [
    "# Create a new file with tsv extension for each row of the dataset.\n",
    "for i in range(len(df)):\n",
    "\n",
    "    # Open .tsv file.\n",
    "    file = open(file_path + \"/doc_\" + str(i) + \".tsv\", \"w\")\n",
    "        \n",
    "    # Get data from dataframe and saving it into a variable\n",
    "    average_rate_per_night = str(df[\"average_rate_per_night\"][i])\n",
    "    bedrooms_count = str(df[\"bedrooms_count\"][i])\n",
    "    city = str(df[\"city\"][i])\n",
    "    date_of_listing = str(df[\"date_of_listing\"][i])    \n",
    "    description = str(df[\"description\"][i])\n",
    "    latitude = str(df[\"latitude\"][i])\n",
    "    longitude = str(df[\"longitude\"][i])\n",
    "    title = str(df[\"title\"][i])\n",
    "    url = str(df[\"url\"][i])\n",
    "                \n",
    "    # Join the fields that will be written in the file\n",
    "    entry = \"\t\".join([average_rate_per_night, \n",
    "                        bedrooms_count,\n",
    "                        city, \n",
    "                        date_of_listing, \n",
    "                        description, \n",
    "                        latitude, \n",
    "                        longitude,\n",
    "                        title,\n",
    "                        url\n",
    "                       ])\n",
    "    \n",
    "    \n",
    "    # Write in the .tsv file\n",
    "    file.write(entry)\n",
    "    \n",
    "    # close the .tsv file\n",
    "    file.close()"
   ]
  },
  {
   "cell_type": "markdown",
   "metadata": {},
   "source": [
    "<p>\n",
    "    We now have a file with .tsv extension for each line of the original .csv document stored in the folder \"lairbnb_data\".\n",
    "</p>"
   ]
  },
  {
   "cell_type": "markdown",
   "metadata": {},
   "source": [
    "<H3> Modify .tsv files </H3>\n",
    "\n",
    "<p> We are now going to modify the information stored on <b><u>description</u></b> and <b><u>title</u></b> columns respectively.</p>\n",
    "<p> Once the files are created, line breaks, punctuation marks and unwanted characters are eliminated.</p>"
   ]
  },
  {
   "cell_type": "code",
   "execution_count": 144,
   "metadata": {},
   "outputs": [],
   "source": [
    "for i in range(len(df)):\n",
    "\n",
    "    file = open(file_path + \"/doc_\" + str(i) + \".tsv\", \"r\")                # Only read \n",
    "    entry = file.read()                                                    # Storing the information\n",
    "    file.close()                                                           # Closing the file\n",
    "    \n",
    "    entry = entry.split(\"\\t\")                                              # Separating with tabs\n",
    "\n",
    "    description = entry[4]                                                 # Accesing the description info\n",
    "    description = text_formatting(description)                             # Sending description info to the function\n",
    "    entry[4] = description                                                 # Receiving the description info modified\n",
    "\n",
    "    title = entry[7]                                                       # Accesing the title info\n",
    "    title = text_formatting(title)                                         # Sending title info to the function\n",
    "    entry[7] = title                                                       # Receiving de title info modified\n",
    "\n",
    "    entry = \"\t\".join(entry)                                              # Joining the info to put it back in file\n",
    "\n",
    "    file = open(file_path + \"/doc_\" + str(i) + \".tsv\", \"w\")                # Modifying the file with the processed data\n",
    "    file.write(entry)                                                      # Writing in the file\n",
    "    file.close()                                                           # Closing the file"
   ]
  },
  {
   "cell_type": "markdown",
   "metadata": {},
   "source": [
    "<H3> Build vocabulary </H3> "
   ]
  },
  {
   "cell_type": "code",
   "execution_count": 145,
   "metadata": {},
   "outputs": [],
   "source": [
    "# Sorting and deleting duplicate words\n",
    "vocabulary = list(sorted(set(vocabulary)))    # The vocabulary variable was created in the in the initialization section"
   ]
  },
  {
   "cell_type": "code",
   "execution_count": 146,
   "metadata": {},
   "outputs": [],
   "source": [
    "# In this step we will go through the vocabulary to assign an index to each word.\n",
    "# At the same time we put them in lower case.\n",
    "\n",
    "file = open(\"vocabulary.txt\", \"w\")            \n",
    "\n",
    "for i in range(len(vocabulary)):            \n",
    "    file.write(str(i) + \": \" + vocabulary[i].lower() + \"\\n\")\n",
    "    \n",
    "file.close()"
   ]
  },
  {
   "cell_type": "code",
   "execution_count": 147,
   "metadata": {},
   "outputs": [],
   "source": [
    "# What we do in this step ?\n",
    "vocabulary_file = open(\"vocabulary.txt\", \"r\")\n",
    "vocabulary = vocabulary_file.read()\n",
    "vocabulary = vocabulary.split(\"\\n\")"
   ]
  },
  {
   "cell_type": "code",
   "execution_count": 148,
   "metadata": {},
   "outputs": [],
   "source": [
    "## ITEMS TO BE REMOVED BEFORE SUBMIT the HW\n",
    "# vocabulary"
   ]
  },
  {
   "cell_type": "markdown",
   "metadata": {},
   "source": [
    "<H3>Dictionary Creation</H3>\n",
    "<p>\n",
    "    Going through each row of the Data Frame is like inspecting each created tsv file.<br>\n",
    "If we look for each words of the vocabulary in the columns description and title of the data frame, we will know in how many files each word appears.<br>\n",
    "Then we will use the index of the vocabulary as index of the dictionary and the index numbers of each row, as the document number for the dictionary.\n",
    "</p>"
   ]
  },
  {
   "cell_type": "code",
   "execution_count": 149,
   "metadata": {},
   "outputs": [],
   "source": [
    "for doc_index in range(len(df)):\n",
    "\n",
    "    # Open .tsv file.\n",
    "    file = open(file_path + \"/doc_\" + str(doc_index) + \".tsv\", \"r\")\n",
    "    \n",
    "    # read entry\n",
    "    entry = file.read()\n",
    "    entry = entry.split(\"\\t\")\n",
    "    \n",
    "    # get description and title\n",
    "    description = entry[4]\n",
    "    title = entry[7]\n",
    "    \n",
    "    # merge in a single string variable the title and the description\n",
    "    des_tit = description + \" \" + title\n",
    "    \n",
    "    des_tit = set(des_tit.split(\" \"))\n",
    "    \n",
    "    # for every word in the description and title\n",
    "    for word in des_tit:\n",
    "        \n",
    "        # for every line in the vocabulary\n",
    "        for i in range(1, len(vocabulary)-1):\n",
    "            \n",
    "            # get the vocabulary index and word form the respective line\n",
    "            term_id = vocabulary[i].split(\" \")[0].replace(\":\", \"\")\n",
    "            term_word = vocabulary[i].split(\" \")[1]\n",
    "                   \n",
    "            # if it's not yet in the dictionary\n",
    "            if (word == term_word) and (term_id not in dictionary):\n",
    "                dictionary[term_id] = [doc_index]                       # add the term_id and doc index to the dictionary\n",
    "            \n",
    "            elif (word == term_word) and (term_id in dictionary):       # else if it's already in the dictionary\n",
    "                dictionary[term_id].append(doc_index)                   # append the doc index to the dictionary\n",
    "    file.close()\n",
    "    \n",
    "vocabulary_file.close()"
   ]
  },
  {
   "cell_type": "markdown",
   "metadata": {},
   "source": [
    "<p>Visualizing the Dictionary</p>"
   ]
  },
  {
   "cell_type": "code",
   "execution_count": 150,
   "metadata": {},
   "outputs": [],
   "source": [
    "# dictionary"
   ]
  },
  {
   "cell_type": "markdown",
   "metadata": {},
   "source": [
    "<H2>3.1) Conjunctive query</H2>\n",
    "<p>Since we are dealing with conjunctive queries (AND), each of the returned documents should contain all the words in the query. The final output of the query must return, if present, the following information for each of the selected documents: </p>"
   ]
  },
  {
   "cell_type": "code",
   "execution_count": 151,
   "metadata": {},
   "outputs": [
    {
     "data": {
      "text/plain": [
       "['room', 'bathroom']"
      ]
     },
     "execution_count": 151,
     "metadata": {},
     "output_type": "execute_result"
    }
   ],
   "source": [
    "## TEST QUERY\n",
    "\n",
    "query = text_formatting(query)\n",
    "query = query.split(\" \")\n",
    "query"
   ]
  },
  {
   "cell_type": "markdown",
   "metadata": {},
   "source": [
    "<p> \n",
    "    In this code we implement the query search, using two list, one for the word's index and other the document's index, we found and return the intersection between them.\n",
    "</p>"
   ]
  },
  {
   "cell_type": "code",
   "execution_count": 152,
   "metadata": {},
   "outputs": [
    {
     "data": {
      "text/plain": [
       "[[0, 1, 2, 3], [0, 1, 3]]"
      ]
     },
     "execution_count": 152,
     "metadata": {},
     "output_type": "execute_result"
    }
   ],
   "source": [
    "vocabulary_file = open(\"vocabulary.txt\", \"r\")                  # Open the vocabulary file\n",
    "vocabulary = vocabulary_file.read()                            # Reading \n",
    "vocabulary = vocabulary.split(\"\\n\")                            # Spliting each word in a new Row\n",
    "\n",
    "term_id_list = list()                                          # Creating a List for Word's index\n",
    "doc_list = list()                                              # Creating a List of matching documents\n",
    "\n",
    "for word in query:                                             # Searching for each word in the query into the vocabulary  \n",
    "    \n",
    "    # for every line in the vocabulary\n",
    "    for i in range(1, len(vocabulary)-1):\n",
    "\n",
    "        # get the vocabulary index and word form the line\n",
    "        term_id = vocabulary[i].split(\" \")[0].replace(\":\", \"\")\n",
    "        term_word = vocabulary[i].split(\" \")[1]\n",
    "\n",
    "        if (word == term_word):\n",
    "            term_id_list.append(term_id)\n",
    "                \n",
    "vocabulary_file.close()\n",
    "\n",
    "## print(term_id_list)\n",
    "\n",
    "for term_id in term_id_list:\n",
    "    if term_id in dictionary:\n",
    "        doc_list.append(dictionary[term_id])\n",
    "\n",
    "doc_list"
   ]
  },
  {
   "cell_type": "code",
   "execution_count": 153,
   "metadata": {},
   "outputs": [
    {
     "data": {
      "text/plain": [
       "'doc_list = list()\\n\\nfor term_id in term_id_list:\\n    if term_id in dictionary:\\n        doc_list.append(dictionary[term_id])\\n\\ndoc_list'"
      ]
     },
     "execution_count": 153,
     "metadata": {},
     "output_type": "execute_result"
    }
   ],
   "source": [
    "## REMOVE THIS CODE\n",
    "\n",
    "\"\"\"doc_list = list()\n",
    "\n",
    "for term_id in term_id_list:\n",
    "    if term_id in dictionary:\n",
    "        doc_list.append(dictionary[term_id])\n",
    "\n",
    "doc_list\"\"\""
   ]
  },
  {
   "cell_type": "markdown",
   "metadata": {},
   "source": [
    "<p>\n",
    "    Presentation of the query result<br>\n",
    "    Documents that meet the selected criteria \n",
    "</p>"
   ]
  },
  {
   "cell_type": "code",
   "execution_count": 154,
   "metadata": {},
   "outputs": [
    {
     "data": {
      "text/plain": [
       "['room', 'bathroom']"
      ]
     },
     "execution_count": 154,
     "metadata": {},
     "output_type": "execute_result"
    }
   ],
   "source": [
    "query"
   ]
  },
  {
   "cell_type": "code",
   "execution_count": 155,
   "metadata": {},
   "outputs": [
    {
     "name": "stdout",
     "output_type": "stream",
     "text": [
      "{0, 1, 3}\n"
     ]
    }
   ],
   "source": [
    "selected_docs = set(doc_list[0])\n",
    "\n",
    "for l in doc_list:\n",
    "    selected_docs = selected_docs.intersection(set(l))\n",
    "    \n",
    "print(selected_docs)"
   ]
  },
  {
   "cell_type": "code",
   "execution_count": 156,
   "metadata": {},
   "outputs": [],
   "source": [
    "selected_docs = list(selected_docs)"
   ]
  },
  {
   "cell_type": "code",
   "execution_count": 157,
   "metadata": {},
   "outputs": [
    {
     "data": {
      "text/html": [
       "<div>\n",
       "<style scoped>\n",
       "    .dataframe tbody tr th:only-of-type {\n",
       "        vertical-align: middle;\n",
       "    }\n",
       "\n",
       "    .dataframe tbody tr th {\n",
       "        vertical-align: top;\n",
       "    }\n",
       "\n",
       "    .dataframe thead th {\n",
       "        text-align: right;\n",
       "    }\n",
       "</style>\n",
       "<table border=\"1\" class=\"dataframe\">\n",
       "  <thead>\n",
       "    <tr style=\"text-align: right;\">\n",
       "      <th></th>\n",
       "      <th>city</th>\n",
       "      <th>description</th>\n",
       "      <th>title</th>\n",
       "      <th>url</th>\n",
       "    </tr>\n",
       "  </thead>\n",
       "  <tbody>\n",
       "    <tr>\n",
       "      <th>0</th>\n",
       "      <td>Humble</td>\n",
       "      <td>Welcome to stay in private room with queen bed...</td>\n",
       "      <td>2 Private rooms/bathroom 10min from IAH airport</td>\n",
       "      <td>https://www.airbnb.com/rooms/18520444?location...</td>\n",
       "    </tr>\n",
       "    <tr>\n",
       "      <th>1</th>\n",
       "      <td>San Antonio</td>\n",
       "      <td>Stylish, fully remodeled home in upscale NW – ...</td>\n",
       "      <td>Unique Location! Alamo Heights - Designer Insp...</td>\n",
       "      <td>https://www.airbnb.com/rooms/17481455?location...</td>\n",
       "    </tr>\n",
       "    <tr>\n",
       "      <th>3</th>\n",
       "      <td>Bryan</td>\n",
       "      <td>Private bedroom in a cute little home situated...</td>\n",
       "      <td>Private Room Close to Campus</td>\n",
       "      <td>https://www.airbnb.com/rooms/11839729?location...</td>\n",
       "    </tr>\n",
       "  </tbody>\n",
       "</table>\n",
       "</div>"
      ],
      "text/plain": [
       "          city                                        description  \\\n",
       "0       Humble  Welcome to stay in private room with queen bed...   \n",
       "1  San Antonio  Stylish, fully remodeled home in upscale NW – ...   \n",
       "3        Bryan  Private bedroom in a cute little home situated...   \n",
       "\n",
       "                                               title  \\\n",
       "0    2 Private rooms/bathroom 10min from IAH airport   \n",
       "1  Unique Location! Alamo Heights - Designer Insp...   \n",
       "3                       Private Room Close to Campus   \n",
       "\n",
       "                                                 url  \n",
       "0  https://www.airbnb.com/rooms/18520444?location...  \n",
       "1  https://www.airbnb.com/rooms/17481455?location...  \n",
       "3  https://www.airbnb.com/rooms/11839729?location...  "
      ]
     },
     "execution_count": 157,
     "metadata": {},
     "output_type": "execute_result"
    }
   ],
   "source": [
    "df.iloc[selected_docs].drop(labels = [\"Unnamed: 0\", \"average_rate_per_night\", \"bedrooms_count\", \n",
    "                                                \"date_of_listing\", \"latitude\", \"longitude\"], axis = 1)"
   ]
  },
  {
   "cell_type": "code",
   "execution_count": null,
   "metadata": {},
   "outputs": [],
   "source": []
  }
 ],
 "metadata": {
  "kernelspec": {
   "display_name": "Python 3",
   "language": "python",
   "name": "python3"
  },
  "language_info": {
   "codemirror_mode": {
    "name": "ipython",
    "version": 3
   },
   "file_extension": ".py",
   "mimetype": "text/x-python",
   "name": "python",
   "nbconvert_exporter": "python",
   "pygments_lexer": "ipython3",
   "version": "3.6.7"
  }
 },
 "nbformat": 4,
 "nbformat_minor": 2
}
