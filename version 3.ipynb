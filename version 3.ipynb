{
 "cells": [
  {
   "cell_type": "markdown",
   "metadata": {},
   "source": [
    "<H1>Homework 3, Group 23</H1>"
   ]
  },
  {
   "cell_type": "markdown",
   "metadata": {},
   "source": [
    "<H3> Importing libraries </H3>"
   ]
  },
  {
   "cell_type": "code",
   "execution_count": 44,
   "metadata": {},
   "outputs": [
    {
     "name": "stdout",
     "output_type": "stream",
     "text": [
      "[nltk_data] Downloading package stopwords to\n",
      "[nltk_data]     C:\\Users\\Massimiliano\\AppData\\Roaming\\nltk_data...\n",
      "[nltk_data]   Package stopwords is already up-to-date!\n"
     ]
    },
    {
     "data": {
      "text/plain": [
       "True"
      ]
     },
     "execution_count": 44,
     "metadata": {},
     "output_type": "execute_result"
    }
   ],
   "source": [
    "nltk.download('stopwords')"
   ]
  },
  {
   "cell_type": "code",
   "execution_count": 45,
   "metadata": {},
   "outputs": [],
   "source": [
    "import pandas as pd\n",
    "import nltk\n",
    "import string"
   ]
  },
  {
   "cell_type": "code",
   "execution_count": 46,
   "metadata": {},
   "outputs": [],
   "source": [
    "from nltk.corpus import stopwords\n",
    "from nltk.stem import PorterStemmer"
   ]
  },
  {
   "cell_type": "markdown",
   "metadata": {},
   "source": [
    "<H3> Initialization </H3>"
   ]
  },
  {
   "cell_type": "code",
   "execution_count": 47,
   "metadata": {},
   "outputs": [],
   "source": [
    "# Create porter stemmer variable.\n",
    "ps = PorterStemmer()\n",
    "\n",
    "# Create a dictionary that stores every word found in documents.\n",
    "dictionary = dict()"
   ]
  },
  {
   "cell_type": "markdown",
   "metadata": {},
   "source": [
    "<H3> Creating Funtions </H3>"
   ]
  },
  {
   "cell_type": "code",
   "execution_count": 48,
   "metadata": {},
   "outputs": [],
   "source": [
    "# Function text_formatting - Receive a string and remove the unwanted characters, punctuation, and stop words.\n",
    "# This function also updates the dictionary, appending each stemmed word. \n",
    "\n",
    "def text_formatting(text_line):\n",
    "\n",
    "    # Remove newlines and convert backslashes into single space.\n",
    "    text_line = text_line.replace(\"\\\\n\", \" \").replace(\"/\", \" \").replace(\"-\", \" \")\n",
    "\n",
    "    # Define punctuation.\n",
    "    # We want to keep the \"$\" symbol, so we remove it from the default list of unwanted symbols.\n",
    "    custom_punctuation = string.punctuation.replace(\"$\", \"\")\n",
    "\n",
    "    # Remove punctuation from the given string.\n",
    "    for char in custom_punctuation:\n",
    "        text_line = text_line.replace(char, '')\n",
    "\n",
    "    # Split into list.\n",
    "    text_line = text_line.split(\" \")\n",
    "\n",
    "    # Remove stop words.\n",
    "    text_line = [word for word in text_line if not word in set(stopwords.words('english'))]\n",
    "\n",
    "    # Perform the stemming process.\n",
    "    text_line = [ps.stem(word) for word in text_line]\n",
    "    \n",
    "    # Update the dictionary.\n",
    "    for word in set(text_line):\n",
    "        if word not in dictionary:\n",
    "            dictionary[word] = [i]\n",
    "        else:\n",
    "            dictionary[word].append(i)\n",
    "\n",
    "    # Rejoin line text  \n",
    "    text_line = \" \".join(text_line)\n",
    "    \n",
    "    return text_line"
   ]
  },
  {
   "cell_type": "markdown",
   "metadata": {},
   "source": [
    "<H3> Read .csv file </H3>\n",
    "\n",
    "<p> ashndjshdkjsadkjn </p>"
   ]
  },
  {
   "cell_type": "code",
   "execution_count": 49,
   "metadata": {},
   "outputs": [
    {
     "data": {
      "text/html": [
       "<div>\n",
       "<style scoped>\n",
       "    .dataframe tbody tr th:only-of-type {\n",
       "        vertical-align: middle;\n",
       "    }\n",
       "\n",
       "    .dataframe tbody tr th {\n",
       "        vertical-align: top;\n",
       "    }\n",
       "\n",
       "    .dataframe thead th {\n",
       "        text-align: right;\n",
       "    }\n",
       "</style>\n",
       "<table border=\"1\" class=\"dataframe\">\n",
       "  <thead>\n",
       "    <tr style=\"text-align: right;\">\n",
       "      <th></th>\n",
       "      <th>Unnamed: 0</th>\n",
       "      <th>average_rate_per_night</th>\n",
       "      <th>bedrooms_count</th>\n",
       "      <th>city</th>\n",
       "      <th>date_of_listing</th>\n",
       "      <th>description</th>\n",
       "      <th>latitude</th>\n",
       "      <th>longitude</th>\n",
       "      <th>title</th>\n",
       "      <th>url</th>\n",
       "    </tr>\n",
       "  </thead>\n",
       "  <tbody>\n",
       "    <tr>\n",
       "      <th>0</th>\n",
       "      <td>1</td>\n",
       "      <td>$27</td>\n",
       "      <td>2</td>\n",
       "      <td>Humble</td>\n",
       "      <td>May 2016</td>\n",
       "      <td>Welcome to stay in private room with queen bed...</td>\n",
       "      <td>30.020138</td>\n",
       "      <td>-95.293996</td>\n",
       "      <td>2 Private rooms/bathroom 10min from IAH airport</td>\n",
       "      <td>https://www.airbnb.com/rooms/18520444?location...</td>\n",
       "    </tr>\n",
       "    <tr>\n",
       "      <th>1</th>\n",
       "      <td>2</td>\n",
       "      <td>$149</td>\n",
       "      <td>4</td>\n",
       "      <td>San Antonio</td>\n",
       "      <td>November 2010</td>\n",
       "      <td>Stylish, fully remodeled home in upscale NW – ...</td>\n",
       "      <td>29.503068</td>\n",
       "      <td>-98.447688</td>\n",
       "      <td>Unique Location! Alamo Heights - Designer Insp...</td>\n",
       "      <td>https://www.airbnb.com/rooms/17481455?location...</td>\n",
       "    </tr>\n",
       "    <tr>\n",
       "      <th>2</th>\n",
       "      <td>3</td>\n",
       "      <td>$59</td>\n",
       "      <td>1</td>\n",
       "      <td>Houston</td>\n",
       "      <td>January 2017</td>\n",
       "      <td>'River house on island close to the city' \\nA ...</td>\n",
       "      <td>29.829352</td>\n",
       "      <td>-95.081549</td>\n",
       "      <td>River house near the city</td>\n",
       "      <td>https://www.airbnb.com/rooms/16926307?location...</td>\n",
       "    </tr>\n",
       "    <tr>\n",
       "      <th>3</th>\n",
       "      <td>4</td>\n",
       "      <td>$60</td>\n",
       "      <td>1</td>\n",
       "      <td>Bryan</td>\n",
       "      <td>February 2016</td>\n",
       "      <td>Private bedroom in a cute little home situated...</td>\n",
       "      <td>30.637304</td>\n",
       "      <td>-96.337846</td>\n",
       "      <td>Private Room Close to Campus</td>\n",
       "      <td>https://www.airbnb.com/rooms/11839729?location...</td>\n",
       "    </tr>\n",
       "    <tr>\n",
       "      <th>4</th>\n",
       "      <td>5</td>\n",
       "      <td>$75</td>\n",
       "      <td>2</td>\n",
       "      <td>Fort Worth</td>\n",
       "      <td>February 2017</td>\n",
       "      <td>Welcome to our original 1920's home. We recent...</td>\n",
       "      <td>32.747097</td>\n",
       "      <td>-97.286434</td>\n",
       "      <td>The Porch</td>\n",
       "      <td>https://www.airbnb.com/rooms/17325114?location...</td>\n",
       "    </tr>\n",
       "  </tbody>\n",
       "</table>\n",
       "</div>"
      ],
      "text/plain": [
       "   Unnamed: 0 average_rate_per_night  bedrooms_count         city  \\\n",
       "0           1                    $27               2       Humble   \n",
       "1           2                   $149               4  San Antonio   \n",
       "2           3                    $59               1      Houston   \n",
       "3           4                    $60               1        Bryan   \n",
       "4           5                    $75               2   Fort Worth   \n",
       "\n",
       "  date_of_listing                                        description  \\\n",
       "0        May 2016  Welcome to stay in private room with queen bed...   \n",
       "1   November 2010  Stylish, fully remodeled home in upscale NW – ...   \n",
       "2    January 2017  'River house on island close to the city' \\nA ...   \n",
       "3   February 2016  Private bedroom in a cute little home situated...   \n",
       "4   February 2017  Welcome to our original 1920's home. We recent...   \n",
       "\n",
       "    latitude  longitude                                              title  \\\n",
       "0  30.020138 -95.293996    2 Private rooms/bathroom 10min from IAH airport   \n",
       "1  29.503068 -98.447688  Unique Location! Alamo Heights - Designer Insp...   \n",
       "2  29.829352 -95.081549                          River house near the city   \n",
       "3  30.637304 -96.337846                       Private Room Close to Campus   \n",
       "4  32.747097 -97.286434                                          The Porch   \n",
       "\n",
       "                                                 url  \n",
       "0  https://www.airbnb.com/rooms/18520444?location...  \n",
       "1  https://www.airbnb.com/rooms/17481455?location...  \n",
       "2  https://www.airbnb.com/rooms/16926307?location...  \n",
       "3  https://www.airbnb.com/rooms/11839729?location...  \n",
       "4  https://www.airbnb.com/rooms/17325114?location...  "
      ]
     },
     "execution_count": 49,
     "metadata": {},
     "output_type": "execute_result"
    }
   ],
   "source": [
    "# Read the source .csv file and visualize its contents\n",
    "df = pd.read_csv(\"Airbnb_Texas_Rentals.csv\")\n",
    "#df"
   ]
  },
  {
   "cell_type": "markdown",
   "metadata": {},
   "source": [
    "<H3> Create .tsv files </H3>"
   ]
  },
  {
   "cell_type": "markdown",
   "metadata": {},
   "source": [
    "<p>\n",
    "To create each .tsv file, we iterate the .csv source file, line by line, storing each line of the information in variables, one  for each field. Once the end of the row is reached, we join the information into a new file where the data will be separated by tabulations.  The process will be repeated until we reach the last row of the source document.\n",
    "</p>"
   ]
  },
  {
   "cell_type": "code",
   "execution_count": 50,
   "metadata": {},
   "outputs": [],
   "source": [
    "# Create a new file with tsv extension for each row of the dataset.\n",
    "for i in range(len(df)):\n",
    "\n",
    "    # Open .tsv file.\n",
    "    file = open(\"airbnb_data/doc_\" + str(i) + \".tsv\", \"w\")\n",
    "        \n",
    "    # Get data from dataframe and saving it into a variable\n",
    "    average_rate_per_night = str(df[\"average_rate_per_night\"][i])\n",
    "    bedrooms_count = str(df[\"bedrooms_count\"][i])\n",
    "    city = str(df[\"city\"][i])\n",
    "    date_of_listing = str(df[\"date_of_listing\"][i])    \n",
    "    description = str(df[\"description\"][i])\n",
    "    latitude = str(df[\"latitude\"][i])\n",
    "    longitude = str(df[\"longitude\"][i])\n",
    "    title = str(df[\"title\"][i])\n",
    "    url = str(df[\"url\"][i])\n",
    "                \n",
    "    # Join the fields that will be written in the file\n",
    "    entry = \"\t\".join([average_rate_per_night, \n",
    "                        bedrooms_count,\n",
    "                        city, \n",
    "                        date_of_listing, \n",
    "                        description, \n",
    "                        latitude, \n",
    "                        longitude,\n",
    "                        title,\n",
    "                        url\n",
    "                       ])\n",
    "    \n",
    "    \n",
    "    # Write in the .tsv file\n",
    "    file.write(entry)\n",
    "    \n",
    "    # close .tsv file\n",
    "    file.close()"
   ]
  },
  {
   "cell_type": "markdown",
   "metadata": {},
   "source": [
    "<p>\n",
    "    We now have a file with .tsv extension for each line of the original .csv document stored in the folder \"lairbnb_data\".\n",
    "</p>"
   ]
  },
  {
   "cell_type": "markdown",
   "metadata": {},
   "source": [
    "<H3> Modify .tsv files </H3>\n",
    "\n",
    "<p> We are now going to modify the information stored on <b>description</b> and <b>title</b> columns respectively.</p>\n",
    "<p> Once the files are created, line breaks, punctuation marks and unwanted characters are eliminated.</p>"
   ]
  },
  {
   "cell_type": "code",
   "execution_count": 51,
   "metadata": {},
   "outputs": [],
   "source": [
    "for i in range(len(df)):\n",
    "\n",
    "    file = open(\"airbnb_data/doc_\" + str(i) + \".tsv\", \"r\")                 # Only read \n",
    "    entry = file.read()                                                    # Storing the information\n",
    "    file.close()                                                           # Closing the file\n",
    "    \n",
    "    entry = entry.split(\"\\t\")                                              # Separating with tabs\n",
    "\n",
    "    description = entry[4]                                                 # Accesing the description info\n",
    "    description = text_formatting(description)                             # Sending description info to the function\n",
    "    entry[4] = description                                                 # Receiving the description info modified\n",
    "\n",
    "    title = entry[7]                                                       # Accesing the title info\n",
    "    title = text_formatting(title)                                         # Sending title info to the function\n",
    "    entry[7] = title                                                       # Receiving de title info modified\n",
    "\n",
    "    entry = \"\t\".join(entry)                                              # Joining the info to put it back in file\n",
    "\n",
    "    file = open(\"airbnb_data/doc_\" + str(i) + \".tsv\", \"w\")                 # Modifying the file with the processed data\n",
    "    file.write(entry)                                                      # Writing in the file\n",
    "    file.close()                                                           # Closing the file"
   ]
  },
  {
   "cell_type": "markdown",
   "metadata": {},
   "source": [
    "<H3> Build vocabulary </H3> "
   ]
  },
  {
   "cell_type": "code",
   "execution_count": 52,
   "metadata": {},
   "outputs": [],
   "source": [
    "list_of_words = list()\n"
   ]
  },
  {
   "cell_type": "code",
   "execution_count": null,
   "metadata": {},
   "outputs": [],
   "source": []
  }
 ],
 "metadata": {
  "kernelspec": {
   "display_name": "Python 3",
   "language": "python",
   "name": "python3"
  },
  "language_info": {
   "codemirror_mode": {
    "name": "ipython",
    "version": 3
   },
   "file_extension": ".py",
   "mimetype": "text/x-python",
   "name": "python",
   "nbconvert_exporter": "python",
   "pygments_lexer": "ipython3",
   "version": "3.6.7"
  }
 },
 "nbformat": 4,
 "nbformat_minor": 2
}
